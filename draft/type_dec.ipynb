{
 "cells": [
  {
   "cell_type": "code",
   "execution_count": 1,
   "metadata": {},
   "outputs": [
    {
     "data": {
      "text/plain": [
       "dimension (generic function with 1 method)"
      ]
     },
     "metadata": {},
     "output_type": "display_data"
    }
   ],
   "source": [
    "abstract type AbstractDimension{N} end\n",
    "\n",
    "struct Dimension1D <: AbstractDimension{1} end\n",
    "struct Dimension2D <: AbstractDimension{2} end\n",
    "struct Dimension3D <: AbstractDimension{3} end\n",
    "\n",
    "@inline function dimension(::Type{<:AbstractDimension{N}}) where {N}\n",
    "    return N\n",
    "end"
   ]
  },
  {
   "cell_type": "code",
   "execution_count": 2,
   "metadata": {},
   "outputs": [],
   "source": [
    "abstract type AbstractNeighbourSystemPolicy end\n",
    "\n",
    "struct CommonNeighbourSystemPolicy <: AbstractNeighbourSystemPolicy end\n",
    "struct PeriodicNeighbourSystemPolicy <: AbstractNeighbourSystemPolicy end\n",
    "\n",
    "abstract type AbstractNeighbourSystem{\n",
    "    IT <: Integer,\n",
    "    FT <: AbstractFloat,\n",
    "    # CT <: AbstractArray,\n",
    "    Dimension <: AbstractDimension,\n",
    "    NeighbourSystemPolicy <: AbstractNeighbourSystemPolicy\n",
    "} end\n",
    "\n",
    "# struct CommonNeighbourSystem{IT <: Integer, FT <: AbstractFloat, CT <: AbstractArray, Dimension <: AbstractDimension{N}} <: AbstractNeighbourSystem{IT, FT, CT, Dimension, CommonNeighbourSystemPolicy} where {N}\n",
    "#     contained_particle_index_count_::CT{IT, 1} # (n_particles, )\n",
    "#     contained_particle_index_list_::CT{IT, 2} # (n_particles, n_neighbours)\n",
    "#     neighbour_cell_index_count_::CT{IT, 1} # (n_cells, )\n",
    "#     neighbour_cell_index_list_::CT{IT, 2} # (n_cells, n_neighbours)\n",
    "# end"
   ]
  },
  {
   "cell_type": "code",
   "execution_count": 3,
   "metadata": {},
   "outputs": [],
   "source": [
    "struct CommonNeighbourSystem{IT <: Integer, FT <: AbstractFloat, Dimension <: AbstractDimension} <: AbstractNeighbourSystem{IT, FT, Dimension, CommonNeighbourSystemPolicy}\n",
    "    # contained_particle_index_count_::CT{IT, 1} # (n_particles, )\n",
    "    # contained_particle_index_list_::CT{IT, 2} # (n_particles, n_neighbours)\n",
    "    # neighbour_cell_index_count_::CT{IT, 1} # (n_cells, )\n",
    "    # neighbour_cell_index_list_::CT{IT, 2} # (n_cells, n_neighbours)\n",
    "end"
   ]
  },
  {
   "cell_type": "code",
   "execution_count": 1,
   "metadata": {},
   "outputs": [],
   "source": [
    "abstract type Container{CT <: AbstractArray} end"
   ]
  }
 ],
 "metadata": {
  "kernelspec": {
   "display_name": "Julia 1.10.4",
   "language": "julia",
   "name": "julia-1.10"
  },
  "language_info": {
   "file_extension": ".jl",
   "mimetype": "application/julia",
   "name": "julia",
   "version": "1.10.4"
  }
 },
 "nbformat": 4,
 "nbformat_minor": 2
}
